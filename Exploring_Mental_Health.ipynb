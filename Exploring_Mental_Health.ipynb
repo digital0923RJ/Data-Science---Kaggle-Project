{
  "nbformat": 4,
  "nbformat_minor": 0,
  "metadata": {
    "colab": {
      "provenance": [],
      "authorship_tag": "ABX9TyNRqSrHO4wIbw3a8Noe8Z4G",
      "include_colab_link": true
    },
    "kernelspec": {
      "name": "python3",
      "display_name": "Python 3"
    },
    "language_info": {
      "name": "python"
    }
  },
  "cells": [
    {
      "cell_type": "markdown",
      "metadata": {
        "id": "view-in-github",
        "colab_type": "text"
      },
      "source": [
        "<a href=\"https://colab.research.google.com/github/digital0923RJ/Data-Science---Kaggle-Project/blob/main/Exploring_Mental_Health.ipynb\" target=\"_parent\"><img src=\"https://colab.research.google.com/assets/colab-badge.svg\" alt=\"Open In Colab\"/></a>"
      ]
    },
    {
      "cell_type": "markdown",
      "source": [],
      "metadata": {
        "id": "AaD12NDi_ZhM"
      }
    },
    {
      "cell_type": "code",
      "source": [
        "!pip install catboost"
      ],
      "metadata": {
        "colab": {
          "base_uri": "https://localhost:8080/"
        },
        "id": "XcbG9XYF_fiY",
        "outputId": "8f05ac5e-9266-47d8-9f46-5015f61b5d39"
      },
      "execution_count": 66,
      "outputs": [
        {
          "output_type": "stream",
          "name": "stdout",
          "text": [
            "Requirement already satisfied: catboost in /usr/local/lib/python3.10/dist-packages (1.2.7)\n",
            "Requirement already satisfied: graphviz in /usr/local/lib/python3.10/dist-packages (from catboost) (0.20.3)\n",
            "Requirement already satisfied: matplotlib in /usr/local/lib/python3.10/dist-packages (from catboost) (3.8.0)\n",
            "Requirement already satisfied: numpy<2.0,>=1.16.0 in /usr/local/lib/python3.10/dist-packages (from catboost) (1.26.4)\n",
            "Requirement already satisfied: pandas>=0.24 in /usr/local/lib/python3.10/dist-packages (from catboost) (2.2.2)\n",
            "Requirement already satisfied: scipy in /usr/local/lib/python3.10/dist-packages (from catboost) (1.13.1)\n",
            "Requirement already satisfied: plotly in /usr/local/lib/python3.10/dist-packages (from catboost) (5.24.1)\n",
            "Requirement already satisfied: six in /usr/local/lib/python3.10/dist-packages (from catboost) (1.16.0)\n",
            "Requirement already satisfied: python-dateutil>=2.8.2 in /usr/local/lib/python3.10/dist-packages (from pandas>=0.24->catboost) (2.8.2)\n",
            "Requirement already satisfied: pytz>=2020.1 in /usr/local/lib/python3.10/dist-packages (from pandas>=0.24->catboost) (2024.2)\n",
            "Requirement already satisfied: tzdata>=2022.7 in /usr/local/lib/python3.10/dist-packages (from pandas>=0.24->catboost) (2024.2)\n",
            "Requirement already satisfied: contourpy>=1.0.1 in /usr/local/lib/python3.10/dist-packages (from matplotlib->catboost) (1.3.1)\n",
            "Requirement already satisfied: cycler>=0.10 in /usr/local/lib/python3.10/dist-packages (from matplotlib->catboost) (0.12.1)\n",
            "Requirement already satisfied: fonttools>=4.22.0 in /usr/local/lib/python3.10/dist-packages (from matplotlib->catboost) (4.55.0)\n",
            "Requirement already satisfied: kiwisolver>=1.0.1 in /usr/local/lib/python3.10/dist-packages (from matplotlib->catboost) (1.4.7)\n",
            "Requirement already satisfied: packaging>=20.0 in /usr/local/lib/python3.10/dist-packages (from matplotlib->catboost) (24.2)\n",
            "Requirement already satisfied: pillow>=6.2.0 in /usr/local/lib/python3.10/dist-packages (from matplotlib->catboost) (11.0.0)\n",
            "Requirement already satisfied: pyparsing>=2.3.1 in /usr/local/lib/python3.10/dist-packages (from matplotlib->catboost) (3.2.0)\n",
            "Requirement already satisfied: tenacity>=6.2.0 in /usr/local/lib/python3.10/dist-packages (from plotly->catboost) (9.0.0)\n"
          ]
        }
      ]
    },
    {
      "cell_type": "code",
      "source": [
        "!pip install optuna"
      ],
      "metadata": {
        "colab": {
          "base_uri": "https://localhost:8080/"
        },
        "id": "Ln5aJ9Kh_kB1",
        "outputId": "9f02b6b8-05de-4542-8d48-2f640f9d04da"
      },
      "execution_count": 67,
      "outputs": [
        {
          "output_type": "stream",
          "name": "stdout",
          "text": [
            "Requirement already satisfied: optuna in /usr/local/lib/python3.10/dist-packages (4.1.0)\n",
            "Requirement already satisfied: alembic>=1.5.0 in /usr/local/lib/python3.10/dist-packages (from optuna) (1.14.0)\n",
            "Requirement already satisfied: colorlog in /usr/local/lib/python3.10/dist-packages (from optuna) (6.9.0)\n",
            "Requirement already satisfied: numpy in /usr/local/lib/python3.10/dist-packages (from optuna) (1.26.4)\n",
            "Requirement already satisfied: packaging>=20.0 in /usr/local/lib/python3.10/dist-packages (from optuna) (24.2)\n",
            "Requirement already satisfied: sqlalchemy>=1.4.2 in /usr/local/lib/python3.10/dist-packages (from optuna) (2.0.36)\n",
            "Requirement already satisfied: tqdm in /usr/local/lib/python3.10/dist-packages (from optuna) (4.66.6)\n",
            "Requirement already satisfied: PyYAML in /usr/local/lib/python3.10/dist-packages (from optuna) (6.0.2)\n",
            "Requirement already satisfied: Mako in /usr/local/lib/python3.10/dist-packages (from alembic>=1.5.0->optuna) (1.3.6)\n",
            "Requirement already satisfied: typing-extensions>=4 in /usr/local/lib/python3.10/dist-packages (from alembic>=1.5.0->optuna) (4.12.2)\n",
            "Requirement already satisfied: greenlet!=0.4.17 in /usr/local/lib/python3.10/dist-packages (from sqlalchemy>=1.4.2->optuna) (3.1.1)\n",
            "Requirement already satisfied: MarkupSafe>=0.9.2 in /usr/local/lib/python3.10/dist-packages (from Mako->alembic>=1.5.0->optuna) (3.0.2)\n"
          ]
        }
      ]
    },
    {
      "cell_type": "code",
      "source": [
        "import pandas as pd\n",
        "import numpy as np\n",
        "import matplotlib.pyplot as plt\n",
        "import seaborn as sns\n",
        "from catboost import Pool, CatBoostClassifier\n",
        "from sklearn.model_selection import StratifiedKFold\n",
        "from sklearn.metrics import accuracy_score, f1_score, roc_auc_score\n",
        "import optuna\n",
        "from optuna.samplers import TPESampler"
      ],
      "metadata": {
        "id": "90vjqSjR_ZrH"
      },
      "execution_count": 68,
      "outputs": []
    },
    {
      "cell_type": "code",
      "source": [
        "# Progress Tracking\n",
        "from tqdm import tqdm\n",
        "from tqdm.notebook import tqdm as tqdm_notebook"
      ],
      "metadata": {
        "id": "c__9CcTR_Z1C"
      },
      "execution_count": 69,
      "outputs": []
    },
    {
      "cell_type": "code",
      "source": [
        "!pip install category_encoders"
      ],
      "metadata": {
        "colab": {
          "base_uri": "https://localhost:8080/"
        },
        "id": "rKCDyLTP_8_r",
        "outputId": "7bc0d5fd-d79a-4880-9ae5-8598df398f1a"
      },
      "execution_count": 70,
      "outputs": [
        {
          "output_type": "stream",
          "name": "stdout",
          "text": [
            "Requirement already satisfied: category_encoders in /usr/local/lib/python3.10/dist-packages (2.6.4)\n",
            "Requirement already satisfied: numpy>=1.14.0 in /usr/local/lib/python3.10/dist-packages (from category_encoders) (1.26.4)\n",
            "Requirement already satisfied: scikit-learn>=0.20.0 in /usr/local/lib/python3.10/dist-packages (from category_encoders) (1.5.2)\n",
            "Requirement already satisfied: scipy>=1.0.0 in /usr/local/lib/python3.10/dist-packages (from category_encoders) (1.13.1)\n",
            "Requirement already satisfied: statsmodels>=0.9.0 in /usr/local/lib/python3.10/dist-packages (from category_encoders) (0.14.4)\n",
            "Requirement already satisfied: pandas>=1.0.5 in /usr/local/lib/python3.10/dist-packages (from category_encoders) (2.2.2)\n",
            "Requirement already satisfied: patsy>=0.5.1 in /usr/local/lib/python3.10/dist-packages (from category_encoders) (1.0.1)\n",
            "Requirement already satisfied: python-dateutil>=2.8.2 in /usr/local/lib/python3.10/dist-packages (from pandas>=1.0.5->category_encoders) (2.8.2)\n",
            "Requirement already satisfied: pytz>=2020.1 in /usr/local/lib/python3.10/dist-packages (from pandas>=1.0.5->category_encoders) (2024.2)\n",
            "Requirement already satisfied: tzdata>=2022.7 in /usr/local/lib/python3.10/dist-packages (from pandas>=1.0.5->category_encoders) (2024.2)\n",
            "Requirement already satisfied: joblib>=1.2.0 in /usr/local/lib/python3.10/dist-packages (from scikit-learn>=0.20.0->category_encoders) (1.4.2)\n",
            "Requirement already satisfied: threadpoolctl>=3.1.0 in /usr/local/lib/python3.10/dist-packages (from scikit-learn>=0.20.0->category_encoders) (3.5.0)\n",
            "Requirement already satisfied: packaging>=21.3 in /usr/local/lib/python3.10/dist-packages (from statsmodels>=0.9.0->category_encoders) (24.2)\n",
            "Requirement already satisfied: six>=1.5 in /usr/local/lib/python3.10/dist-packages (from python-dateutil>=2.8.2->pandas>=1.0.5->category_encoders) (1.16.0)\n"
          ]
        }
      ]
    },
    {
      "cell_type": "code",
      "execution_count": 71,
      "metadata": {
        "id": "Qb1Jtwqo_U0J"
      },
      "outputs": [],
      "source": [
        "# Feature Engineering and Processing\n",
        "from sklearn.preprocessing import (\n",
        "    LabelEncoder,\n",
        "    StandardScaler,\n",
        "    MinMaxScaler,\n",
        "    PowerTransformer,\n",
        "    FunctionTransformer,\n",
        "    RobustScaler\n",
        ")\n",
        "from category_encoders import (\n",
        "    OneHotEncoder,\n",
        "    OrdinalEncoder,\n",
        "    CountEncoder,\n",
        "    CatBoostEncoder,\n",
        "    TargetEncoder\n",
        ")\n",
        "from sklearn.impute import SimpleImputer, KNNImputer\n",
        "from sklearn.compose import ColumnTransformer\n",
        "from sklearn.pipeline import Pipeline\n"
      ]
    },
    {
      "cell_type": "code",
      "source": [
        "from google.colab import drive\n",
        "drive.mount('/content/drive')\n"
      ],
      "metadata": {
        "colab": {
          "base_uri": "https://localhost:8080/"
        },
        "id": "ZnPEjDig__18",
        "outputId": "d464d35a-6ff2-43d2-b633-68f3d3c43b33"
      },
      "execution_count": 72,
      "outputs": [
        {
          "output_type": "stream",
          "name": "stdout",
          "text": [
            "Drive already mounted at /content/drive; to attempt to forcibly remount, call drive.mount(\"/content/drive\", force_remount=True).\n"
          ]
        }
      ]
    },
    {
      "cell_type": "code",
      "source": [
        "DATA_PATH = \"/content/drive/MyDrive/Kaggle/Exploring Mental Health Data\""
      ],
      "metadata": {
        "id": "-GwsGowLBYwh"
      },
      "execution_count": 73,
      "outputs": []
    },
    {
      "cell_type": "code",
      "source": [
        "train = pd.read_csv(f\"{DATA_PATH}/train.csv\") # 학습데이터\n",
        "test = pd.read_csv(f\"{DATA_PATH}/test.csv\") # 테스트 데이터\n",
        "ori = pd.read_csv(f\"{DATA_PATH}/final_depression_dataset_1.csv\")"
      ],
      "metadata": {
        "id": "McbZ8WRMBfV5"
      },
      "execution_count": 74,
      "outputs": []
    },
    {
      "cell_type": "markdown",
      "source": [
        "Column Descriptions\n",
        "*   Name: Identifier for participants (anonymized)\n",
        "*   Gender: Participant's gender identity\n",
        "*   Age: Participant's age\n",
        "*   City: Location of residence\n",
        "*   Working Professional or Student: Current occupation category\n",
        "*   Profession: Specific profession/field of work\n",
        "*   Degree: Educational qualification\n",
        "*   CGPA: Academic performance measure\n",
        "*   Academic Pressure: Level of pressure from academic responsibilities\n",
        "*   Work Pressure: Level of pressure from work responsibilities\n",
        "*   Study Satisfaction: Level of satisfaction with studies\n",
        "*   Job Satisfaction: Level of satisfaction with current job\n",
        "*   Work/Study Hours: Daily hours spent on work/study\n",
        "*   Sleep Duration: Average daily sleep hours\n",
        "*   Dietary Habits: Eating patterns and food preferences\n",
        "*   Have you ever had suicidal thoughts ?: History of suicidal ideation (Yes/No)\n",
        "*   Financial Stress: Level of stress related to financial situation\n",
        "*   Family History of Mental Illness: Presence of mental illness in family (Yes/No)\n",
        "*   Target Variable: Depression, Binary indicator (1 = Yes, 0 = No) of depression risk"
      ],
      "metadata": {
        "id": "gHYztAf6HMDH"
      }
    },
    {
      "cell_type": "markdown",
      "source": [
        "Evaluation Metric\n",
        "\n",
        "*   The model performance is evaluated using Accuracy Score\n",
        "*   Accuracy = (Number of Correct Predictions) / (Total Number of Predictions)"
      ],
      "metadata": {
        "id": "3AjFTE2GH4L8"
      }
    },
    {
      "cell_type": "markdown",
      "source": [
        "Objectives\n",
        "\n",
        "*   Build a machine learning model to predict depression risk based on various life factors\n",
        "*   Identify key contributors to mental health challenges\n",
        "*   Analyze the relationship between different life aspects (academic, professional, personal) and depression risk\n",
        "*   Create a reliable predictive model for early depression risk assessment\n",
        "*   Understand the impact of lifestyle factors on mental health"
      ],
      "metadata": {
        "id": "FAQaROHjH9bH"
      }
    },
    {
      "cell_type": "code",
      "source": [
        "ori['Depression'] = ori['Depression'].map({\"Yes\":1,\"No\":0}) #change Yes to 1 , No to 0 - Part of binary encoding\n",
        "train = pd.concat([train, ori], ignore_index=True)"
      ],
      "metadata": {
        "id": "OuJCCHn7JYii"
      },
      "execution_count": 75,
      "outputs": []
    },
    {
      "cell_type": "code",
      "source": [
        "# Drop ID columns if present\n",
        "if 'id' in train.columns:\n",
        "    train.drop(columns=['id'], inplace=True)\n",
        "if 'id' in test.columns:\n",
        "    test.drop(columns=['id'], inplace=True)"
      ],
      "metadata": {
        "id": "_WbE9Jshm125"
      },
      "execution_count": 79,
      "outputs": []
    },
    {
      "cell_type": "code",
      "source": [
        "def display_object_columns(df):\n",
        "    object_columns = df.select_dtypes(include=['object']).columns\n",
        "    print(\"Object 타입 열들:\")\n",
        "    for col in object_columns:\n",
        "        print(f\"열 이름: {col}\")\n",
        "        print(df[col].head())\n",
        "        print()\n",
        "# 함수 호출 (train에 대해)\n",
        "display_object_columns(train)\n",
        "display_object_columns(test)"
      ],
      "metadata": {
        "colab": {
          "base_uri": "https://localhost:8080/"
        },
        "id": "ftok_c_MJgIU",
        "outputId": "d19b2642-6255-48c8-e4f2-24b2b3b5f1cd"
      },
      "execution_count": 80,
      "outputs": [
        {
          "output_type": "stream",
          "name": "stdout",
          "text": [
            "Object 타입 열들:\n",
            "열 이름: Name\n",
            "0    Aaradhya\n",
            "1       Vivan\n",
            "2      Yuvraj\n",
            "3      Yuvraj\n",
            "4        Rhea\n",
            "Name: Name, dtype: object\n",
            "\n",
            "열 이름: Gender\n",
            "0    Female\n",
            "1      Male\n",
            "2      Male\n",
            "3      Male\n",
            "4    Female\n",
            "Name: Gender, dtype: object\n",
            "\n",
            "열 이름: City\n",
            "0         Ludhiana\n",
            "1         Varanasi\n",
            "2    Visakhapatnam\n",
            "3           Mumbai\n",
            "4           Kanpur\n",
            "Name: City, dtype: object\n",
            "\n",
            "열 이름: Working Professional or Student\n",
            "0    Working Professional\n",
            "1    Working Professional\n",
            "2                 Student\n",
            "3    Working Professional\n",
            "4    Working Professional\n",
            "Name: Working Professional or Student, dtype: object\n",
            "\n",
            "열 이름: Profession\n",
            "0                Chef\n",
            "1             Teacher\n",
            "2                 NaN\n",
            "3             Teacher\n",
            "4    Business Analyst\n",
            "Name: Profession, dtype: object\n",
            "\n",
            "열 이름: Sleep Duration\n",
            "0    More than 8 hours\n",
            "1    Less than 5 hours\n",
            "2            5-6 hours\n",
            "3    Less than 5 hours\n",
            "4            5-6 hours\n",
            "Name: Sleep Duration, dtype: object\n",
            "\n",
            "열 이름: Dietary Habits\n",
            "0      Healthy\n",
            "1    Unhealthy\n",
            "2      Healthy\n",
            "3     Moderate\n",
            "4    Unhealthy\n",
            "Name: Dietary Habits, dtype: object\n",
            "\n",
            "열 이름: Degree\n",
            "0        BHM\n",
            "1        LLB\n",
            "2    B.Pharm\n",
            "3        BBA\n",
            "4        BBA\n",
            "Name: Degree, dtype: object\n",
            "\n",
            "열 이름: Have you ever had suicidal thoughts ?\n",
            "0     No\n",
            "1    Yes\n",
            "2    Yes\n",
            "3    Yes\n",
            "4    Yes\n",
            "Name: Have you ever had suicidal thoughts ?, dtype: object\n",
            "\n",
            "열 이름: Family History of Mental Illness\n",
            "0     No\n",
            "1     No\n",
            "2     No\n",
            "3    Yes\n",
            "4    Yes\n",
            "Name: Family History of Mental Illness, dtype: object\n",
            "\n",
            "Object 타입 열들:\n",
            "열 이름: Name\n",
            "0     Shivam\n",
            "1      Sanya\n",
            "2       Yash\n",
            "3     Nalini\n",
            "4    Shaurya\n",
            "Name: Name, dtype: object\n",
            "\n",
            "열 이름: Gender\n",
            "0      Male\n",
            "1    Female\n",
            "2      Male\n",
            "3    Female\n",
            "4      Male\n",
            "Name: Gender, dtype: object\n",
            "\n",
            "열 이름: City\n",
            "0    Visakhapatnam\n",
            "1          Kolkata\n",
            "2           Jaipur\n",
            "3           Rajkot\n",
            "4           Kalyan\n",
            "Name: City, dtype: object\n",
            "\n",
            "열 이름: Working Professional or Student\n",
            "0    Working Professional\n",
            "1    Working Professional\n",
            "2    Working Professional\n",
            "3                 Student\n",
            "4    Working Professional\n",
            "Name: Working Professional or Student, dtype: object\n",
            "\n",
            "열 이름: Profession\n",
            "0                     Judge\n",
            "1    Educational Consultant\n",
            "2                   Teacher\n",
            "3                       NaN\n",
            "4                   Teacher\n",
            "Name: Profession, dtype: object\n",
            "\n",
            "열 이름: Sleep Duration\n",
            "0    Less than 5 hours\n",
            "1    Less than 5 hours\n",
            "2            7-8 hours\n",
            "3    More than 8 hours\n",
            "4            7-8 hours\n",
            "Name: Sleep Duration, dtype: object\n",
            "\n",
            "열 이름: Dietary Habits\n",
            "0    Moderate\n",
            "1    Moderate\n",
            "2    Moderate\n",
            "3    Moderate\n",
            "4    Moderate\n",
            "Name: Dietary Habits, dtype: object\n",
            "\n",
            "열 이름: Degree\n",
            "0       LLB\n",
            "1      B.Ed\n",
            "2    B.Arch\n",
            "3       BSc\n",
            "4       BCA\n",
            "Name: Degree, dtype: object\n",
            "\n",
            "열 이름: Have you ever had suicidal thoughts ?\n",
            "0     No\n",
            "1     No\n",
            "2    Yes\n",
            "3    Yes\n",
            "4    Yes\n",
            "Name: Have you ever had suicidal thoughts ?, dtype: object\n",
            "\n",
            "열 이름: Family History of Mental Illness\n",
            "0    Yes\n",
            "1     No\n",
            "2     No\n",
            "3     No\n",
            "4     No\n",
            "Name: Family History of Mental Illness, dtype: object\n",
            "\n"
          ]
        }
      ]
    },
    {
      "cell_type": "code",
      "source": [
        "categorical_columns = train.select_dtypes(include=['object']).columns\n",
        "categorical_columns"
      ],
      "metadata": {
        "colab": {
          "base_uri": "https://localhost:8080/"
        },
        "id": "oUwb-tlUmq-N",
        "outputId": "2d6dbea3-c600-494e-8697-52666d065af4"
      },
      "execution_count": 81,
      "outputs": [
        {
          "output_type": "execute_result",
          "data": {
            "text/plain": [
              "Index(['Name', 'Gender', 'City', 'Working Professional or Student',\n",
              "       'Profession', 'Sleep Duration', 'Dietary Habits', 'Degree',\n",
              "       'Have you ever had suicidal thoughts ?',\n",
              "       'Family History of Mental Illness'],\n",
              "      dtype='object')"
            ]
          },
          "metadata": {},
          "execution_count": 81
        }
      ]
    },
    {
      "cell_type": "code",
      "source": [
        "for columns in categorical_columns: # 범주형 열(column) 이름이 담긴 리스트임. #루프를 사용하여 리스트에 있는 각 열에 대해 반복적으로 작업을 수행함.\n",
        "    plt.figure(figsize= (10, 4)) # 그림 크기\n",
        "    sns.countplot(x=columns, data = train) # 빈도수 #x는 해당 범주형 열을 설정 # 데이터 가져오기\n",
        "    sns.histplot(x=columns, data = train) #\n",
        "    plt.title(f'Distribution of {columns}')\n",
        "    plt.xticks(rotation=90)\n",
        "    plt.show()\n",
        "\n",
        "    # 빈도 계산\n",
        "    counts = df_train[columns].value_counts(normalize=True) * 100  # 퍼센트로 변환\n",
        "    counts = counts.reset_index()\n",
        "    counts.columns = [columns, 'Percentage']\n",
        "\n",
        "    # 그래프 그리기\n",
        "    sns.barplot(x=columns, y='Percentage', data=counts)\n",
        "\n",
        "    plt.title(f'Distribution of {columns} (Percentage)')\n",
        "    plt.xticks(rotation=90)\n",
        "    plt.show()"
      ],
      "metadata": {
        "id": "NfNOtZGAn5MU"
      },
      "execution_count": null,
      "outputs": []
    },
    {
      "cell_type": "code",
      "source": [
        "!pip install tensorflow"
      ],
      "metadata": {
        "colab": {
          "base_uri": "https://localhost:8080/"
        },
        "id": "dwiRlOBrV7D8",
        "outputId": "922c07eb-7bb9-43e2-caf1-aacd5a6d34be"
      },
      "execution_count": 42,
      "outputs": [
        {
          "output_type": "stream",
          "name": "stdout",
          "text": [
            "Requirement already satisfied: tensorflow in /usr/local/lib/python3.10/dist-packages (2.17.1)\n",
            "Requirement already satisfied: absl-py>=1.0.0 in /usr/local/lib/python3.10/dist-packages (from tensorflow) (1.4.0)\n",
            "Requirement already satisfied: astunparse>=1.6.0 in /usr/local/lib/python3.10/dist-packages (from tensorflow) (1.6.3)\n",
            "Requirement already satisfied: flatbuffers>=24.3.25 in /usr/local/lib/python3.10/dist-packages (from tensorflow) (24.3.25)\n",
            "Requirement already satisfied: gast!=0.5.0,!=0.5.1,!=0.5.2,>=0.2.1 in /usr/local/lib/python3.10/dist-packages (from tensorflow) (0.6.0)\n",
            "Requirement already satisfied: google-pasta>=0.1.1 in /usr/local/lib/python3.10/dist-packages (from tensorflow) (0.2.0)\n",
            "Requirement already satisfied: h5py>=3.10.0 in /usr/local/lib/python3.10/dist-packages (from tensorflow) (3.12.1)\n",
            "Requirement already satisfied: libclang>=13.0.0 in /usr/local/lib/python3.10/dist-packages (from tensorflow) (18.1.1)\n",
            "Requirement already satisfied: ml-dtypes<0.5.0,>=0.3.1 in /usr/local/lib/python3.10/dist-packages (from tensorflow) (0.4.1)\n",
            "Requirement already satisfied: opt-einsum>=2.3.2 in /usr/local/lib/python3.10/dist-packages (from tensorflow) (3.4.0)\n",
            "Requirement already satisfied: packaging in /usr/local/lib/python3.10/dist-packages (from tensorflow) (24.2)\n",
            "Requirement already satisfied: protobuf!=4.21.0,!=4.21.1,!=4.21.2,!=4.21.3,!=4.21.4,!=4.21.5,<5.0.0dev,>=3.20.3 in /usr/local/lib/python3.10/dist-packages (from tensorflow) (4.25.5)\n",
            "Requirement already satisfied: requests<3,>=2.21.0 in /usr/local/lib/python3.10/dist-packages (from tensorflow) (2.32.3)\n",
            "Requirement already satisfied: setuptools in /usr/local/lib/python3.10/dist-packages (from tensorflow) (75.1.0)\n",
            "Requirement already satisfied: six>=1.12.0 in /usr/local/lib/python3.10/dist-packages (from tensorflow) (1.16.0)\n",
            "Requirement already satisfied: termcolor>=1.1.0 in /usr/local/lib/python3.10/dist-packages (from tensorflow) (2.5.0)\n",
            "Requirement already satisfied: typing-extensions>=3.6.6 in /usr/local/lib/python3.10/dist-packages (from tensorflow) (4.12.2)\n",
            "Requirement already satisfied: wrapt>=1.11.0 in /usr/local/lib/python3.10/dist-packages (from tensorflow) (1.16.0)\n",
            "Requirement already satisfied: grpcio<2.0,>=1.24.3 in /usr/local/lib/python3.10/dist-packages (from tensorflow) (1.68.0)\n",
            "Requirement already satisfied: tensorboard<2.18,>=2.17 in /usr/local/lib/python3.10/dist-packages (from tensorflow) (2.17.1)\n",
            "Requirement already satisfied: keras>=3.2.0 in /usr/local/lib/python3.10/dist-packages (from tensorflow) (3.5.0)\n",
            "Requirement already satisfied: tensorflow-io-gcs-filesystem>=0.23.1 in /usr/local/lib/python3.10/dist-packages (from tensorflow) (0.37.1)\n",
            "Requirement already satisfied: numpy<2.0.0,>=1.23.5 in /usr/local/lib/python3.10/dist-packages (from tensorflow) (1.26.4)\n",
            "Requirement already satisfied: wheel<1.0,>=0.23.0 in /usr/local/lib/python3.10/dist-packages (from astunparse>=1.6.0->tensorflow) (0.45.0)\n",
            "Requirement already satisfied: rich in /usr/local/lib/python3.10/dist-packages (from keras>=3.2.0->tensorflow) (13.9.4)\n",
            "Requirement already satisfied: namex in /usr/local/lib/python3.10/dist-packages (from keras>=3.2.0->tensorflow) (0.0.8)\n",
            "Requirement already satisfied: optree in /usr/local/lib/python3.10/dist-packages (from keras>=3.2.0->tensorflow) (0.13.1)\n",
            "Requirement already satisfied: charset-normalizer<4,>=2 in /usr/local/lib/python3.10/dist-packages (from requests<3,>=2.21.0->tensorflow) (3.4.0)\n",
            "Requirement already satisfied: idna<4,>=2.5 in /usr/local/lib/python3.10/dist-packages (from requests<3,>=2.21.0->tensorflow) (3.10)\n",
            "Requirement already satisfied: urllib3<3,>=1.21.1 in /usr/local/lib/python3.10/dist-packages (from requests<3,>=2.21.0->tensorflow) (2.2.3)\n",
            "Requirement already satisfied: certifi>=2017.4.17 in /usr/local/lib/python3.10/dist-packages (from requests<3,>=2.21.0->tensorflow) (2024.8.30)\n",
            "Requirement already satisfied: markdown>=2.6.8 in /usr/local/lib/python3.10/dist-packages (from tensorboard<2.18,>=2.17->tensorflow) (3.7)\n",
            "Requirement already satisfied: tensorboard-data-server<0.8.0,>=0.7.0 in /usr/local/lib/python3.10/dist-packages (from tensorboard<2.18,>=2.17->tensorflow) (0.7.2)\n",
            "Requirement already satisfied: werkzeug>=1.0.1 in /usr/local/lib/python3.10/dist-packages (from tensorboard<2.18,>=2.17->tensorflow) (3.1.3)\n",
            "Requirement already satisfied: MarkupSafe>=2.1.1 in /usr/local/lib/python3.10/dist-packages (from werkzeug>=1.0.1->tensorboard<2.18,>=2.17->tensorflow) (3.0.2)\n",
            "Requirement already satisfied: markdown-it-py>=2.2.0 in /usr/local/lib/python3.10/dist-packages (from rich->keras>=3.2.0->tensorflow) (3.0.0)\n",
            "Requirement already satisfied: pygments<3.0.0,>=2.13.0 in /usr/local/lib/python3.10/dist-packages (from rich->keras>=3.2.0->tensorflow) (2.18.0)\n",
            "Requirement already satisfied: mdurl~=0.1 in /usr/local/lib/python3.10/dist-packages (from markdown-it-py>=2.2.0->rich->keras>=3.2.0->tensorflow) (0.1.2)\n"
          ]
        }
      ]
    },
    {
      "cell_type": "code",
      "source": [
        "import tensorflow as tf\n",
        "# Check for GPU availability\n",
        "global device\n",
        "gpus = tf.config.list_physical_devices('GPU')"
      ],
      "metadata": {
        "id": "sWOEIu2ZTcQJ"
      },
      "execution_count": 43,
      "outputs": []
    },
    {
      "cell_type": "code",
      "source": [
        "if gpus:\n",
        "    print(\"GPU is available\")\n",
        "    device = 'gpu'\n",
        "    # Enable memory growth for GPU\n",
        "    for gpu in gpus:\n",
        "        tf.config.experimental.set_memory_growth(gpu, True)\n",
        "else:\n",
        "    print(\"GPU is not available\")\n",
        "    device = 'cpu'\n"
      ],
      "metadata": {
        "colab": {
          "base_uri": "https://localhost:8080/"
        },
        "id": "ngRNG_IRWBeW",
        "outputId": "65d31aad-b999-41ac-9030-556d7d1cedb8"
      },
      "execution_count": 44,
      "outputs": [
        {
          "output_type": "stream",
          "name": "stdout",
          "text": [
            "GPU is not available\n"
          ]
        }
      ]
    },
    {
      "cell_type": "code",
      "source": [
        "# Create copies for backup\n",
        "train_copy = train.copy()\n",
        "test_copy = test.copy()\n",
        "original_copy = ori.copy()"
      ],
      "metadata": {
        "id": "uIQ7ni-oWHqG"
      },
      "execution_count": 46,
      "outputs": []
    },
    {
      "cell_type": "code",
      "source": [
        "train.info()"
      ],
      "metadata": {
        "colab": {
          "base_uri": "https://localhost:8080/"
        },
        "id": "0Pz-moVVYaRh",
        "outputId": "13e5429d-5c31-4055-9483-49e66bd7bb7a"
      },
      "execution_count": 51,
      "outputs": [
        {
          "output_type": "stream",
          "name": "stdout",
          "text": [
            "<class 'pandas.core.frame.DataFrame'>\n",
            "RangeIndex: 143256 entries, 0 to 143255\n",
            "Data columns (total 19 columns):\n",
            " #   Column                                 Non-Null Count   Dtype  \n",
            "---  ------                                 --------------   -----  \n",
            " 0   Name                                   143256 non-null  object \n",
            " 1   Gender                                 143256 non-null  object \n",
            " 2   Age                                    143256 non-null  float64\n",
            " 3   City                                   143256 non-null  object \n",
            " 4   Working Professional or Student        143256 non-null  object \n",
            " 5   Profession                             105953 non-null  object \n",
            " 6   Academic Pressure                      28399 non-null   float64\n",
            " 7   Work Pressure                          114836 non-null  float64\n",
            " 8   CGPA                                   28400 non-null   float64\n",
            " 9   Study Satisfaction                     28399 non-null   float64\n",
            " 10  Job Satisfaction                       114844 non-null  float64\n",
            " 11  Sleep Duration                         143256 non-null  object \n",
            " 12  Dietary Habits                         143252 non-null  object \n",
            " 13  Degree                                 143254 non-null  object \n",
            " 14  Have you ever had suicidal thoughts ?  143256 non-null  object \n",
            " 15  Work/Study Hours                       143256 non-null  float64\n",
            " 16  Financial Stress                       143252 non-null  float64\n",
            " 17  Family History of Mental Illness       143256 non-null  object \n",
            " 18  Depression                             143256 non-null  int64  \n",
            "dtypes: float64(8), int64(1), object(10)\n",
            "memory usage: 20.8+ MB\n"
          ]
        }
      ]
    },
    {
      "cell_type": "code",
      "source": [
        "from sklearn.preprocessing import StandardScaler, OneHotEncoder, LabelEncoder\n",
        "scaler = StandardScaler()\n",
        "Onehot = OneHotEncoder()\n",
        "Label = LabelEncoder()"
      ],
      "metadata": {
        "id": "KRI_l5sRlKXT"
      },
      "execution_count": 63,
      "outputs": []
    },
    {
      "cell_type": "code",
      "source": [
        "# 수치형 열과 범주형 열 구분\n",
        "numeric_columns = train.select_dtypes(include=[np.number]).columns\n",
        "categorical_columns = train.select_dtypes(include=['object']).columns"
      ],
      "metadata": {
        "id": "BmodOxablndw"
      },
      "execution_count": 65,
      "outputs": []
    },
    {
      "cell_type": "code",
      "source": [
        "def display_object_float(df):\n",
        "    float64_columns = df.select_dtypes(include=['float64']).columns\n",
        "    print(\"float64 타입 열들:\")\n",
        "    for col in float64_columns:\n",
        "        print(f\"열 이름: {col}\")\n",
        "        print(df[col].head())\n",
        "        print()\n",
        "display_object_float(train)\n",
        "display_object_float(test)"
      ],
      "metadata": {
        "colab": {
          "base_uri": "https://localhost:8080/"
        },
        "id": "uWc2SjjmYO0L",
        "outputId": "f8baa466-d0ed-422c-a0a3-01537c7f31c9"
      },
      "execution_count": 62,
      "outputs": [
        {
          "output_type": "stream",
          "name": "stdout",
          "text": [
            "float64 타입 열들:\n",
            "열 이름: Age\n",
            "0    49.0\n",
            "1    26.0\n",
            "2    33.0\n",
            "3    22.0\n",
            "4    30.0\n",
            "Name: Age, dtype: float64\n",
            "\n",
            "열 이름: Academic Pressure\n",
            "0    3.139829\n",
            "1    3.139829\n",
            "2    5.000000\n",
            "3    3.139829\n",
            "4    3.139829\n",
            "Name: Academic Pressure, dtype: float64\n",
            "\n",
            "열 이름: Work Pressure\n",
            "0    5.000000\n",
            "1    4.000000\n",
            "2    2.999408\n",
            "3    5.000000\n",
            "4    1.000000\n",
            "Name: Work Pressure, dtype: float64\n",
            "\n",
            "열 이름: CGPA\n",
            "0    7.657031\n",
            "1    7.657031\n",
            "2    8.970000\n",
            "3    7.657031\n",
            "4    7.657031\n",
            "Name: CGPA, dtype: float64\n",
            "\n",
            "열 이름: Study Satisfaction\n",
            "0    2.947252\n",
            "1    2.947252\n",
            "2    2.000000\n",
            "3    2.947252\n",
            "4    2.947252\n",
            "Name: Study Satisfaction, dtype: float64\n",
            "\n",
            "열 이름: Job Satisfaction\n",
            "0    2.000000\n",
            "1    3.000000\n",
            "2    2.975131\n",
            "3    1.000000\n",
            "4    1.000000\n",
            "Name: Job Satisfaction, dtype: float64\n",
            "\n",
            "열 이름: Work/Study Hours\n",
            "0     1.0\n",
            "1     7.0\n",
            "2     3.0\n",
            "3    10.0\n",
            "4     9.0\n",
            "Name: Work/Study Hours, dtype: float64\n",
            "\n",
            "열 이름: Financial Stress\n",
            "0    2.0\n",
            "1    3.0\n",
            "2    1.0\n",
            "3    1.0\n",
            "4    4.0\n",
            "Name: Financial Stress, dtype: float64\n",
            "\n",
            "float64 타입 열들:\n",
            "열 이름: Age\n",
            "0    53.0\n",
            "1    58.0\n",
            "2    53.0\n",
            "3    23.0\n",
            "4    47.0\n",
            "Name: Age, dtype: float64\n",
            "\n",
            "열 이름: Academic Pressure\n",
            "0    3.158576\n",
            "1    3.158576\n",
            "2    3.158576\n",
            "3    5.000000\n",
            "4    3.158576\n",
            "Name: Academic Pressure, dtype: float64\n",
            "\n",
            "열 이름: Work Pressure\n",
            "0    2.000000\n",
            "1    2.000000\n",
            "2    4.000000\n",
            "3    3.011797\n",
            "4    5.000000\n",
            "Name: Work Pressure, dtype: float64\n",
            "\n",
            "열 이름: CGPA\n",
            "0    7.674016\n",
            "1    7.674016\n",
            "2    7.674016\n",
            "3    6.840000\n",
            "4    7.674016\n",
            "Name: CGPA, dtype: float64\n",
            "\n",
            "열 이름: Study Satisfaction\n",
            "0    2.939522\n",
            "1    2.939522\n",
            "2    2.939522\n",
            "3    1.000000\n",
            "4    2.939522\n",
            "Name: Study Satisfaction, dtype: float64\n",
            "\n",
            "열 이름: Job Satisfaction\n",
            "0    5.00000\n",
            "1    4.00000\n",
            "2    1.00000\n",
            "3    2.96092\n",
            "4    5.00000\n",
            "Name: Job Satisfaction, dtype: float64\n",
            "\n",
            "열 이름: Work/Study Hours\n",
            "0     9.0\n",
            "1     6.0\n",
            "2    12.0\n",
            "3    10.0\n",
            "4     3.0\n",
            "Name: Work/Study Hours, dtype: float64\n",
            "\n",
            "열 이름: Financial Stress\n",
            "0    3.0\n",
            "1    4.0\n",
            "2    4.0\n",
            "3    4.0\n",
            "4    4.0\n",
            "Name: Financial Stress, dtype: float64\n",
            "\n"
          ]
        }
      ]
    },
    {
      "cell_type": "markdown",
      "source": [],
      "metadata": {
        "id": "FJRl7RQTZudp"
      }
    },
    {
      "cell_type": "code",
      "source": [
        "# 결측치를 평균값으로 대체\n",
        "for col in train.select_dtypes(include=['float64']).columns:\n",
        "    train[col].fillna(train[col].mean(), inplace=True)\n",
        "\n",
        "for col in test.select_dtypes(include=['float64']).columns:\n",
        "    test[col].fillna(test[col].mean(), inplace=True)"
      ],
      "metadata": {
        "colab": {
          "base_uri": "https://localhost:8080/"
        },
        "id": "XqlXy7Z0Yu96",
        "outputId": "fcce96ea-8136-4234-aa45-f41bb54a63d9"
      },
      "execution_count": 54,
      "outputs": [
        {
          "output_type": "stream",
          "name": "stderr",
          "text": [
            "<ipython-input-54-36c8b31d4d69>:3: FutureWarning: A value is trying to be set on a copy of a DataFrame or Series through chained assignment using an inplace method.\n",
            "The behavior will change in pandas 3.0. This inplace method will never work because the intermediate object on which we are setting values always behaves as a copy.\n",
            "\n",
            "For example, when doing 'df[col].method(value, inplace=True)', try using 'df.method({col: value}, inplace=True)' or df[col] = df[col].method(value) instead, to perform the operation inplace on the original object.\n",
            "\n",
            "\n",
            "  train[col].fillna(train[col].mean(), inplace=True)\n",
            "<ipython-input-54-36c8b31d4d69>:6: FutureWarning: A value is trying to be set on a copy of a DataFrame or Series through chained assignment using an inplace method.\n",
            "The behavior will change in pandas 3.0. This inplace method will never work because the intermediate object on which we are setting values always behaves as a copy.\n",
            "\n",
            "For example, when doing 'df[col].method(value, inplace=True)', try using 'df.method({col: value}, inplace=True)' or df[col] = df[col].method(value) instead, to perform the operation inplace on the original object.\n",
            "\n",
            "\n",
            "  test[col].fillna(test[col].mean(), inplace=True)\n"
          ]
        }
      ]
    },
    {
      "cell_type": "code",
      "source": [
        "print(train.isnull().sum())\n",
        "print(test.isnull().sum())"
      ],
      "metadata": {
        "colab": {
          "base_uri": "https://localhost:8080/"
        },
        "id": "w4KqsJZhaKxB",
        "outputId": "00f17d5b-8f85-4886-9fc4-6a2058709544"
      },
      "execution_count": 55,
      "outputs": [
        {
          "output_type": "stream",
          "name": "stdout",
          "text": [
            "Name                                         0\n",
            "Gender                                       0\n",
            "Age                                          0\n",
            "City                                         0\n",
            "Working Professional or Student              0\n",
            "Profession                               37303\n",
            "Academic Pressure                            0\n",
            "Work Pressure                                0\n",
            "CGPA                                         0\n",
            "Study Satisfaction                           0\n",
            "Job Satisfaction                             0\n",
            "Sleep Duration                               0\n",
            "Dietary Habits                               4\n",
            "Degree                                       2\n",
            "Have you ever had suicidal thoughts ?        0\n",
            "Work/Study Hours                             0\n",
            "Financial Stress                             0\n",
            "Family History of Mental Illness             0\n",
            "Depression                                   0\n",
            "dtype: int64\n",
            "Name                                         0\n",
            "Gender                                       0\n",
            "Age                                          0\n",
            "City                                         0\n",
            "Working Professional or Student              0\n",
            "Profession                               24632\n",
            "Academic Pressure                            0\n",
            "Work Pressure                                0\n",
            "CGPA                                         0\n",
            "Study Satisfaction                           0\n",
            "Job Satisfaction                             0\n",
            "Sleep Duration                               0\n",
            "Dietary Habits                               5\n",
            "Degree                                       2\n",
            "Have you ever had suicidal thoughts ?        0\n",
            "Work/Study Hours                             0\n",
            "Financial Stress                             0\n",
            "Family History of Mental Illness             0\n",
            "dtype: int64\n"
          ]
        }
      ]
    },
    {
      "cell_type": "code",
      "source": [
        "\n"
      ],
      "metadata": {
        "id": "yBB-iCfajK0j"
      },
      "execution_count": 59,
      "outputs": []
    },
    {
      "cell_type": "code",
      "source": [],
      "metadata": {
        "colab": {
          "base_uri": "https://localhost:8080/",
          "height": 325
        },
        "id": "48OAZSwBjNFg",
        "outputId": "6b2cda73-5490-4a80-be1f-c7ed63dc2761"
      },
      "execution_count": 60,
      "outputs": [
        {
          "output_type": "execute_result",
          "data": {
            "text/plain": [
              "       Name  Gender   Age           City  Academic Pressure  Work Pressure  \\\n",
              "0  Aaradhya  Female  49.0       Ludhiana           3.139829       5.000000   \n",
              "1     Vivan    Male  26.0       Varanasi           3.139829       4.000000   \n",
              "2    Yuvraj    Male  33.0  Visakhapatnam           5.000000       2.999408   \n",
              "3    Yuvraj    Male  22.0         Mumbai           3.139829       5.000000   \n",
              "4      Rhea  Female  30.0         Kanpur           3.139829       1.000000   \n",
              "\n",
              "       CGPA  Study Satisfaction  Job Satisfaction     Sleep Duration  ...  \\\n",
              "0  7.657031            2.947252          2.000000  More than 8 hours  ...   \n",
              "1  7.657031            2.947252          3.000000  Less than 5 hours  ...   \n",
              "2  8.970000            2.000000          2.975131          5-6 hours  ...   \n",
              "3  7.657031            2.947252          1.000000  Less than 5 hours  ...   \n",
              "4  7.657031            2.947252          1.000000          5-6 hours  ...   \n",
              "\n",
              "  Profession_Student Profession_Teacher Profession_Travel Consultant  \\\n",
              "0              False              False                        False   \n",
              "1              False               True                        False   \n",
              "2              False              False                        False   \n",
              "3              False               True                        False   \n",
              "4              False              False                        False   \n",
              "\n",
              "   Profession_UX/UI Designer  Profession_Unemployed Profession_Unveil  \\\n",
              "0                      False                  False             False   \n",
              "1                      False                  False             False   \n",
              "2                      False                  False             False   \n",
              "3                      False                  False             False   \n",
              "4                      False                  False             False   \n",
              "\n",
              "   Profession_Visakhapatnam  Profession_Working Professional  \\\n",
              "0                     False                            False   \n",
              "1                     False                            False   \n",
              "2                     False                            False   \n",
              "3                     False                            False   \n",
              "4                     False                            False   \n",
              "\n",
              "   Profession_Yogesh  Profession_Yuvraj  \n",
              "0              False              False  \n",
              "1              False              False  \n",
              "2              False              False  \n",
              "3              False              False  \n",
              "4              False              False  \n",
              "\n",
              "[5 rows x 81 columns]"
            ],
            "text/html": [
              "\n",
              "  <div id=\"df-47ba5e11-103b-4f7d-8dce-8ca0fc8fa8f4\" class=\"colab-df-container\">\n",
              "    <div>\n",
              "<style scoped>\n",
              "    .dataframe tbody tr th:only-of-type {\n",
              "        vertical-align: middle;\n",
              "    }\n",
              "\n",
              "    .dataframe tbody tr th {\n",
              "        vertical-align: top;\n",
              "    }\n",
              "\n",
              "    .dataframe thead th {\n",
              "        text-align: right;\n",
              "    }\n",
              "</style>\n",
              "<table border=\"1\" class=\"dataframe\">\n",
              "  <thead>\n",
              "    <tr style=\"text-align: right;\">\n",
              "      <th></th>\n",
              "      <th>Name</th>\n",
              "      <th>Gender</th>\n",
              "      <th>Age</th>\n",
              "      <th>City</th>\n",
              "      <th>Academic Pressure</th>\n",
              "      <th>Work Pressure</th>\n",
              "      <th>CGPA</th>\n",
              "      <th>Study Satisfaction</th>\n",
              "      <th>Job Satisfaction</th>\n",
              "      <th>Sleep Duration</th>\n",
              "      <th>...</th>\n",
              "      <th>Profession_Student</th>\n",
              "      <th>Profession_Teacher</th>\n",
              "      <th>Profession_Travel Consultant</th>\n",
              "      <th>Profession_UX/UI Designer</th>\n",
              "      <th>Profession_Unemployed</th>\n",
              "      <th>Profession_Unveil</th>\n",
              "      <th>Profession_Visakhapatnam</th>\n",
              "      <th>Profession_Working Professional</th>\n",
              "      <th>Profession_Yogesh</th>\n",
              "      <th>Profession_Yuvraj</th>\n",
              "    </tr>\n",
              "  </thead>\n",
              "  <tbody>\n",
              "    <tr>\n",
              "      <th>0</th>\n",
              "      <td>Aaradhya</td>\n",
              "      <td>Female</td>\n",
              "      <td>49.0</td>\n",
              "      <td>Ludhiana</td>\n",
              "      <td>3.139829</td>\n",
              "      <td>5.000000</td>\n",
              "      <td>7.657031</td>\n",
              "      <td>2.947252</td>\n",
              "      <td>2.000000</td>\n",
              "      <td>More than 8 hours</td>\n",
              "      <td>...</td>\n",
              "      <td>False</td>\n",
              "      <td>False</td>\n",
              "      <td>False</td>\n",
              "      <td>False</td>\n",
              "      <td>False</td>\n",
              "      <td>False</td>\n",
              "      <td>False</td>\n",
              "      <td>False</td>\n",
              "      <td>False</td>\n",
              "      <td>False</td>\n",
              "    </tr>\n",
              "    <tr>\n",
              "      <th>1</th>\n",
              "      <td>Vivan</td>\n",
              "      <td>Male</td>\n",
              "      <td>26.0</td>\n",
              "      <td>Varanasi</td>\n",
              "      <td>3.139829</td>\n",
              "      <td>4.000000</td>\n",
              "      <td>7.657031</td>\n",
              "      <td>2.947252</td>\n",
              "      <td>3.000000</td>\n",
              "      <td>Less than 5 hours</td>\n",
              "      <td>...</td>\n",
              "      <td>False</td>\n",
              "      <td>True</td>\n",
              "      <td>False</td>\n",
              "      <td>False</td>\n",
              "      <td>False</td>\n",
              "      <td>False</td>\n",
              "      <td>False</td>\n",
              "      <td>False</td>\n",
              "      <td>False</td>\n",
              "      <td>False</td>\n",
              "    </tr>\n",
              "    <tr>\n",
              "      <th>2</th>\n",
              "      <td>Yuvraj</td>\n",
              "      <td>Male</td>\n",
              "      <td>33.0</td>\n",
              "      <td>Visakhapatnam</td>\n",
              "      <td>5.000000</td>\n",
              "      <td>2.999408</td>\n",
              "      <td>8.970000</td>\n",
              "      <td>2.000000</td>\n",
              "      <td>2.975131</td>\n",
              "      <td>5-6 hours</td>\n",
              "      <td>...</td>\n",
              "      <td>False</td>\n",
              "      <td>False</td>\n",
              "      <td>False</td>\n",
              "      <td>False</td>\n",
              "      <td>False</td>\n",
              "      <td>False</td>\n",
              "      <td>False</td>\n",
              "      <td>False</td>\n",
              "      <td>False</td>\n",
              "      <td>False</td>\n",
              "    </tr>\n",
              "    <tr>\n",
              "      <th>3</th>\n",
              "      <td>Yuvraj</td>\n",
              "      <td>Male</td>\n",
              "      <td>22.0</td>\n",
              "      <td>Mumbai</td>\n",
              "      <td>3.139829</td>\n",
              "      <td>5.000000</td>\n",
              "      <td>7.657031</td>\n",
              "      <td>2.947252</td>\n",
              "      <td>1.000000</td>\n",
              "      <td>Less than 5 hours</td>\n",
              "      <td>...</td>\n",
              "      <td>False</td>\n",
              "      <td>True</td>\n",
              "      <td>False</td>\n",
              "      <td>False</td>\n",
              "      <td>False</td>\n",
              "      <td>False</td>\n",
              "      <td>False</td>\n",
              "      <td>False</td>\n",
              "      <td>False</td>\n",
              "      <td>False</td>\n",
              "    </tr>\n",
              "    <tr>\n",
              "      <th>4</th>\n",
              "      <td>Rhea</td>\n",
              "      <td>Female</td>\n",
              "      <td>30.0</td>\n",
              "      <td>Kanpur</td>\n",
              "      <td>3.139829</td>\n",
              "      <td>1.000000</td>\n",
              "      <td>7.657031</td>\n",
              "      <td>2.947252</td>\n",
              "      <td>1.000000</td>\n",
              "      <td>5-6 hours</td>\n",
              "      <td>...</td>\n",
              "      <td>False</td>\n",
              "      <td>False</td>\n",
              "      <td>False</td>\n",
              "      <td>False</td>\n",
              "      <td>False</td>\n",
              "      <td>False</td>\n",
              "      <td>False</td>\n",
              "      <td>False</td>\n",
              "      <td>False</td>\n",
              "      <td>False</td>\n",
              "    </tr>\n",
              "  </tbody>\n",
              "</table>\n",
              "<p>5 rows × 81 columns</p>\n",
              "</div>\n",
              "    <div class=\"colab-df-buttons\">\n",
              "\n",
              "  <div class=\"colab-df-container\">\n",
              "    <button class=\"colab-df-convert\" onclick=\"convertToInteractive('df-47ba5e11-103b-4f7d-8dce-8ca0fc8fa8f4')\"\n",
              "            title=\"Convert this dataframe to an interactive table.\"\n",
              "            style=\"display:none;\">\n",
              "\n",
              "  <svg xmlns=\"http://www.w3.org/2000/svg\" height=\"24px\" viewBox=\"0 -960 960 960\">\n",
              "    <path d=\"M120-120v-720h720v720H120Zm60-500h600v-160H180v160Zm220 220h160v-160H400v160Zm0 220h160v-160H400v160ZM180-400h160v-160H180v160Zm440 0h160v-160H620v160ZM180-180h160v-160H180v160Zm440 0h160v-160H620v160Z\"/>\n",
              "  </svg>\n",
              "    </button>\n",
              "\n",
              "  <style>\n",
              "    .colab-df-container {\n",
              "      display:flex;\n",
              "      gap: 12px;\n",
              "    }\n",
              "\n",
              "    .colab-df-convert {\n",
              "      background-color: #E8F0FE;\n",
              "      border: none;\n",
              "      border-radius: 50%;\n",
              "      cursor: pointer;\n",
              "      display: none;\n",
              "      fill: #1967D2;\n",
              "      height: 32px;\n",
              "      padding: 0 0 0 0;\n",
              "      width: 32px;\n",
              "    }\n",
              "\n",
              "    .colab-df-convert:hover {\n",
              "      background-color: #E2EBFA;\n",
              "      box-shadow: 0px 1px 2px rgba(60, 64, 67, 0.3), 0px 1px 3px 1px rgba(60, 64, 67, 0.15);\n",
              "      fill: #174EA6;\n",
              "    }\n",
              "\n",
              "    .colab-df-buttons div {\n",
              "      margin-bottom: 4px;\n",
              "    }\n",
              "\n",
              "    [theme=dark] .colab-df-convert {\n",
              "      background-color: #3B4455;\n",
              "      fill: #D2E3FC;\n",
              "    }\n",
              "\n",
              "    [theme=dark] .colab-df-convert:hover {\n",
              "      background-color: #434B5C;\n",
              "      box-shadow: 0px 1px 3px 1px rgba(0, 0, 0, 0.15);\n",
              "      filter: drop-shadow(0px 1px 2px rgba(0, 0, 0, 0.3));\n",
              "      fill: #FFFFFF;\n",
              "    }\n",
              "  </style>\n",
              "\n",
              "    <script>\n",
              "      const buttonEl =\n",
              "        document.querySelector('#df-47ba5e11-103b-4f7d-8dce-8ca0fc8fa8f4 button.colab-df-convert');\n",
              "      buttonEl.style.display =\n",
              "        google.colab.kernel.accessAllowed ? 'block' : 'none';\n",
              "\n",
              "      async function convertToInteractive(key) {\n",
              "        const element = document.querySelector('#df-47ba5e11-103b-4f7d-8dce-8ca0fc8fa8f4');\n",
              "        const dataTable =\n",
              "          await google.colab.kernel.invokeFunction('convertToInteractive',\n",
              "                                                    [key], {});\n",
              "        if (!dataTable) return;\n",
              "\n",
              "        const docLinkHtml = 'Like what you see? Visit the ' +\n",
              "          '<a target=\"_blank\" href=https://colab.research.google.com/notebooks/data_table.ipynb>data table notebook</a>'\n",
              "          + ' to learn more about interactive tables.';\n",
              "        element.innerHTML = '';\n",
              "        dataTable['output_type'] = 'display_data';\n",
              "        await google.colab.output.renderOutput(dataTable, element);\n",
              "        const docLink = document.createElement('div');\n",
              "        docLink.innerHTML = docLinkHtml;\n",
              "        element.appendChild(docLink);\n",
              "      }\n",
              "    </script>\n",
              "  </div>\n",
              "\n",
              "\n",
              "<div id=\"df-7764223b-c5d3-4cfc-a0dc-677648c4864b\">\n",
              "  <button class=\"colab-df-quickchart\" onclick=\"quickchart('df-7764223b-c5d3-4cfc-a0dc-677648c4864b')\"\n",
              "            title=\"Suggest charts\"\n",
              "            style=\"display:none;\">\n",
              "\n",
              "<svg xmlns=\"http://www.w3.org/2000/svg\" height=\"24px\"viewBox=\"0 0 24 24\"\n",
              "     width=\"24px\">\n",
              "    <g>\n",
              "        <path d=\"M19 3H5c-1.1 0-2 .9-2 2v14c0 1.1.9 2 2 2h14c1.1 0 2-.9 2-2V5c0-1.1-.9-2-2-2zM9 17H7v-7h2v7zm4 0h-2V7h2v10zm4 0h-2v-4h2v4z\"/>\n",
              "    </g>\n",
              "</svg>\n",
              "  </button>\n",
              "\n",
              "<style>\n",
              "  .colab-df-quickchart {\n",
              "      --bg-color: #E8F0FE;\n",
              "      --fill-color: #1967D2;\n",
              "      --hover-bg-color: #E2EBFA;\n",
              "      --hover-fill-color: #174EA6;\n",
              "      --disabled-fill-color: #AAA;\n",
              "      --disabled-bg-color: #DDD;\n",
              "  }\n",
              "\n",
              "  [theme=dark] .colab-df-quickchart {\n",
              "      --bg-color: #3B4455;\n",
              "      --fill-color: #D2E3FC;\n",
              "      --hover-bg-color: #434B5C;\n",
              "      --hover-fill-color: #FFFFFF;\n",
              "      --disabled-bg-color: #3B4455;\n",
              "      --disabled-fill-color: #666;\n",
              "  }\n",
              "\n",
              "  .colab-df-quickchart {\n",
              "    background-color: var(--bg-color);\n",
              "    border: none;\n",
              "    border-radius: 50%;\n",
              "    cursor: pointer;\n",
              "    display: none;\n",
              "    fill: var(--fill-color);\n",
              "    height: 32px;\n",
              "    padding: 0;\n",
              "    width: 32px;\n",
              "  }\n",
              "\n",
              "  .colab-df-quickchart:hover {\n",
              "    background-color: var(--hover-bg-color);\n",
              "    box-shadow: 0 1px 2px rgba(60, 64, 67, 0.3), 0 1px 3px 1px rgba(60, 64, 67, 0.15);\n",
              "    fill: var(--button-hover-fill-color);\n",
              "  }\n",
              "\n",
              "  .colab-df-quickchart-complete:disabled,\n",
              "  .colab-df-quickchart-complete:disabled:hover {\n",
              "    background-color: var(--disabled-bg-color);\n",
              "    fill: var(--disabled-fill-color);\n",
              "    box-shadow: none;\n",
              "  }\n",
              "\n",
              "  .colab-df-spinner {\n",
              "    border: 2px solid var(--fill-color);\n",
              "    border-color: transparent;\n",
              "    border-bottom-color: var(--fill-color);\n",
              "    animation:\n",
              "      spin 1s steps(1) infinite;\n",
              "  }\n",
              "\n",
              "  @keyframes spin {\n",
              "    0% {\n",
              "      border-color: transparent;\n",
              "      border-bottom-color: var(--fill-color);\n",
              "      border-left-color: var(--fill-color);\n",
              "    }\n",
              "    20% {\n",
              "      border-color: transparent;\n",
              "      border-left-color: var(--fill-color);\n",
              "      border-top-color: var(--fill-color);\n",
              "    }\n",
              "    30% {\n",
              "      border-color: transparent;\n",
              "      border-left-color: var(--fill-color);\n",
              "      border-top-color: var(--fill-color);\n",
              "      border-right-color: var(--fill-color);\n",
              "    }\n",
              "    40% {\n",
              "      border-color: transparent;\n",
              "      border-right-color: var(--fill-color);\n",
              "      border-top-color: var(--fill-color);\n",
              "    }\n",
              "    60% {\n",
              "      border-color: transparent;\n",
              "      border-right-color: var(--fill-color);\n",
              "    }\n",
              "    80% {\n",
              "      border-color: transparent;\n",
              "      border-right-color: var(--fill-color);\n",
              "      border-bottom-color: var(--fill-color);\n",
              "    }\n",
              "    90% {\n",
              "      border-color: transparent;\n",
              "      border-bottom-color: var(--fill-color);\n",
              "    }\n",
              "  }\n",
              "</style>\n",
              "\n",
              "  <script>\n",
              "    async function quickchart(key) {\n",
              "      const quickchartButtonEl =\n",
              "        document.querySelector('#' + key + ' button');\n",
              "      quickchartButtonEl.disabled = true;  // To prevent multiple clicks.\n",
              "      quickchartButtonEl.classList.add('colab-df-spinner');\n",
              "      try {\n",
              "        const charts = await google.colab.kernel.invokeFunction(\n",
              "            'suggestCharts', [key], {});\n",
              "      } catch (error) {\n",
              "        console.error('Error during call to suggestCharts:', error);\n",
              "      }\n",
              "      quickchartButtonEl.classList.remove('colab-df-spinner');\n",
              "      quickchartButtonEl.classList.add('colab-df-quickchart-complete');\n",
              "    }\n",
              "    (() => {\n",
              "      let quickchartButtonEl =\n",
              "        document.querySelector('#df-7764223b-c5d3-4cfc-a0dc-677648c4864b button');\n",
              "      quickchartButtonEl.style.display =\n",
              "        google.colab.kernel.accessAllowed ? 'block' : 'none';\n",
              "    })();\n",
              "  </script>\n",
              "</div>\n",
              "\n",
              "    </div>\n",
              "  </div>\n"
            ],
            "application/vnd.google.colaboratory.intrinsic+json": {
              "type": "dataframe",
              "variable_name": "train_encoded"
            }
          },
          "metadata": {},
          "execution_count": 60
        }
      ]
    },
    {
      "cell_type": "code",
      "source": [
        "print(train.isnull().sum())\n",
        "print(test.isnull().sum())"
      ],
      "metadata": {
        "colab": {
          "base_uri": "https://localhost:8080/"
        },
        "id": "pkS1iS34jU1O",
        "outputId": "d4a979bd-70d9-4133-8920-ae26d580bc60"
      },
      "execution_count": 61,
      "outputs": [
        {
          "output_type": "stream",
          "name": "stdout",
          "text": [
            "Name                                         0\n",
            "Gender                                       0\n",
            "Age                                          0\n",
            "City                                         0\n",
            "Working Professional or Student              0\n",
            "Profession                               37303\n",
            "Academic Pressure                            0\n",
            "Work Pressure                                0\n",
            "CGPA                                         0\n",
            "Study Satisfaction                           0\n",
            "Job Satisfaction                             0\n",
            "Sleep Duration                               0\n",
            "Dietary Habits                               4\n",
            "Degree                                       2\n",
            "Have you ever had suicidal thoughts ?        0\n",
            "Work/Study Hours                             0\n",
            "Financial Stress                             0\n",
            "Family History of Mental Illness             0\n",
            "Depression                                   0\n",
            "dtype: int64\n",
            "Name                                         0\n",
            "Gender                                       0\n",
            "Age                                          0\n",
            "City                                         0\n",
            "Working Professional or Student              0\n",
            "Profession                               24632\n",
            "Academic Pressure                            0\n",
            "Work Pressure                                0\n",
            "CGPA                                         0\n",
            "Study Satisfaction                           0\n",
            "Job Satisfaction                             0\n",
            "Sleep Duration                               0\n",
            "Dietary Habits                               5\n",
            "Degree                                       2\n",
            "Have you ever had suicidal thoughts ?        0\n",
            "Work/Study Hours                             0\n",
            "Financial Stress                             0\n",
            "Family History of Mental Illness             0\n",
            "dtype: int64\n"
          ]
        }
      ]
    }
  ]
}